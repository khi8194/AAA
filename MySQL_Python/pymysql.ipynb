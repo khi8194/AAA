{
 "cells": [
  {
   "cell_type": "code",
   "execution_count": 7,
   "metadata": {},
   "outputs": [
    {
     "name": "stdout",
     "output_type": "stream",
     "text": [
      "Requirement already satisfied: pymysql in c:\\users\\hyein kim\\appdata\\local\\programs\\python\\python312\\lib\\site-packages (1.1.1)\n",
      "Note: you may need to restart the kernel to use updated packages.\n"
     ]
    }
   ],
   "source": [
    "pip install pymysql"
   ]
  },
  {
   "cell_type": "code",
   "execution_count": 8,
   "metadata": {},
   "outputs": [
    {
     "name": "stdout",
     "output_type": "stream",
     "text": [
      "Collecting mysql-connector-pythonNote: you may need to restart the kernel to use updated packages.\n",
      "\n",
      "  Downloading mysql_connector_python-9.0.0-cp312-cp312-win_amd64.whl.metadata (2.0 kB)\n",
      "Downloading mysql_connector_python-9.0.0-cp312-cp312-win_amd64.whl (14.3 MB)\n",
      "   ---------------------------------------- 0.0/14.3 MB ? eta -:--:--\n",
      "    --------------------------------------- 0.3/14.3 MB ? eta -:--:--\n",
      "   - -------------------------------------- 0.5/14.3 MB 1.5 MB/s eta 0:00:10\n",
      "   -- ------------------------------------- 0.8/14.3 MB 1.7 MB/s eta 0:00:09\n",
      "   -- ------------------------------------- 1.0/14.3 MB 1.6 MB/s eta 0:00:09\n",
      "   ---- ----------------------------------- 1.6/14.3 MB 1.6 MB/s eta 0:00:09\n",
      "   ----- ---------------------------------- 1.8/14.3 MB 1.6 MB/s eta 0:00:08\n",
      "   ----- ---------------------------------- 2.1/14.3 MB 1.6 MB/s eta 0:00:08\n",
      "   ------- -------------------------------- 2.6/14.3 MB 1.6 MB/s eta 0:00:08\n",
      "   -------- ------------------------------- 2.9/14.3 MB 1.6 MB/s eta 0:00:08\n",
      "   -------- ------------------------------- 3.1/14.3 MB 1.7 MB/s eta 0:00:07\n",
      "   ---------- ----------------------------- 3.7/14.3 MB 1.7 MB/s eta 0:00:07\n",
      "   ---------- ----------------------------- 3.9/14.3 MB 1.6 MB/s eta 0:00:07\n",
      "   ----------- ---------------------------- 4.2/14.3 MB 1.6 MB/s eta 0:00:07\n",
      "   ------------ --------------------------- 4.5/14.3 MB 1.6 MB/s eta 0:00:07\n",
      "   ------------- -------------------------- 5.0/14.3 MB 1.6 MB/s eta 0:00:06\n",
      "   -------------- ------------------------- 5.2/14.3 MB 1.6 MB/s eta 0:00:06\n",
      "   --------------- ------------------------ 5.5/14.3 MB 1.6 MB/s eta 0:00:06\n",
      "   ---------------- ----------------------- 6.0/14.3 MB 1.6 MB/s eta 0:00:06\n",
      "   ----------------- ---------------------- 6.3/14.3 MB 1.6 MB/s eta 0:00:06\n",
      "   ------------------ --------------------- 6.6/14.3 MB 1.6 MB/s eta 0:00:05\n",
      "   ------------------- -------------------- 7.1/14.3 MB 1.6 MB/s eta 0:00:05\n",
      "   -------------------- ------------------- 7.3/14.3 MB 1.6 MB/s eta 0:00:05\n",
      "   --------------------- ------------------ 7.6/14.3 MB 1.6 MB/s eta 0:00:05\n",
      "   ---------------------- ----------------- 8.1/14.3 MB 1.6 MB/s eta 0:00:04\n",
      "   ----------------------- ---------------- 8.4/14.3 MB 1.6 MB/s eta 0:00:04\n",
      "   ------------------------ --------------- 8.7/14.3 MB 1.6 MB/s eta 0:00:04\n",
      "   ------------------------ --------------- 8.9/14.3 MB 1.6 MB/s eta 0:00:04\n",
      "   -------------------------- ------------- 9.4/14.3 MB 1.6 MB/s eta 0:00:04\n",
      "   --------------------------- ------------ 9.7/14.3 MB 1.6 MB/s eta 0:00:03\n",
      "   --------------------------- ------------ 10.0/14.3 MB 1.6 MB/s eta 0:00:03\n",
      "   ----------------------------- ---------- 10.5/14.3 MB 1.6 MB/s eta 0:00:03\n",
      "   ----------------------------- ---------- 10.7/14.3 MB 1.6 MB/s eta 0:00:03\n",
      "   ------------------------------- -------- 11.3/14.3 MB 1.6 MB/s eta 0:00:02\n",
      "   -------------------------------- ------- 11.5/14.3 MB 1.6 MB/s eta 0:00:02\n",
      "   -------------------------------- ------- 11.8/14.3 MB 1.6 MB/s eta 0:00:02\n",
      "   --------------------------------- ------ 12.1/14.3 MB 1.6 MB/s eta 0:00:02\n",
      "   ---------------------------------- ----- 12.3/14.3 MB 1.6 MB/s eta 0:00:02\n",
      "   ----------------------------------- ---- 12.8/14.3 MB 1.6 MB/s eta 0:00:01\n",
      "   ------------------------------------- -- 13.4/14.3 MB 1.6 MB/s eta 0:00:01\n",
      "   -------------------------------------- - 13.6/14.3 MB 1.6 MB/s eta 0:00:01\n",
      "   -------------------------------------- - 13.9/14.3 MB 1.6 MB/s eta 0:00:01\n",
      "   ---------------------------------------  14.2/14.3 MB 1.6 MB/s eta 0:00:01\n",
      "   ---------------------------------------- 14.3/14.3 MB 1.6 MB/s eta 0:00:00\n",
      "Installing collected packages: mysql-connector-python\n",
      "Successfully installed mysql-connector-python-9.0.0\n"
     ]
    }
   ],
   "source": [
    "pip install mysql-connector-python"
   ]
  },
  {
   "cell_type": "code",
   "execution_count": 11,
   "metadata": {},
   "outputs": [],
   "source": [
    "import pymysql\n",
    "import mysql.connector\n",
    "from mysql.connector import Error"
   ]
  },
  {
   "cell_type": "code",
   "execution_count": 13,
   "metadata": {},
   "outputs": [],
   "source": [
    "conn=pymysql.connect(host='127.0.0.1', user='user1', password='sql129511gpdls@', db='seoul_data', charset='utf8')"
   ]
  },
  {
   "cell_type": "code",
   "execution_count": 14,
   "metadata": {},
   "outputs": [
    {
     "name": "stdout",
     "output_type": "stream",
     "text": [
      "MySQL 서버에 성공적으로 연결되었습니다.\n"
     ]
    }
   ],
   "source": [
    "try:\n",
    "    # MySQL 서버에 연결\n",
    "    conn = mysql.connector.connect(\n",
    "        host='127.0.0.1', \n",
    "        user='user1', \n",
    "        password='sql129511gpdls@', \n",
    "        db='seoul_data'\n",
    "    )\n",
    "\n",
    "    if conn.is_connected():\n",
    "        print(\"MySQL 서버에 성공적으로 연결되었습니다.\")\n",
    "\n",
    "except Error as e:\n",
    "    print(f\"Error: {e}\")\n",
    "\n",
    "finally:\n",
    "    if 'connection' in locals() and conn.is_connected():\n",
    "        conn.close()\n",
    "        print(\"MySQL 연결이 닫혔습니다.\")"
   ]
  },
  {
   "cell_type": "code",
   "execution_count": 25,
   "metadata": {},
   "outputs": [
    {
     "name": "stdout",
     "output_type": "stream",
     "text": [
      "('골마을 근린공원', 1)\n",
      "('대한무역투자진흥공사 KOTRA 앞', 2)\n",
      "('상암센터 정비실', 7)\n",
      "('서초종합체육관 입구', 5)\n",
      "('암사동 선사유적지', 8)\n",
      "('에이텍', 1)\n",
      "('왕십리 자이아파트', 7)\n"
     ]
    }
   ],
   "source": [
    "# MySQL 서버에 연결\n",
    "conn = mysql.connector.connect(\n",
    "        host='127.0.0.1', \n",
    "        user='user1', \n",
    "        password='sql129511gpdls@', \n",
    "        db='seoul_data'\n",
    "    )\n",
    "\n",
    "# 커서 생성\n",
    "cursor = conn.cursor()\n",
    "\n",
    "# 쿼리 실행 예시\n",
    "# sql_query = \"SELECT * FROM bicycle_202101\"\n",
    "sql_query = \"SELECT 대여소명, COUNT(*) FROM bicycle_202101 GROUP BY 대여소명 HAVING COUNT(자전거번호) < 10\"\n",
    "cursor.execute(sql_query)\n",
    "\n",
    "# 쿼리 결과 가져오기\n",
    "result = cursor.fetchall()\n",
    "\n",
    "# 결과 출력\n",
    "for row in result:\n",
    "    print(row)\n",
    "\n",
    "# 연결과 커서 닫기\n",
    "cursor.close()\n",
    "conn.close()"
   ]
  },
  {
   "cell_type": "code",
   "execution_count": null,
   "metadata": {},
   "outputs": [],
   "source": []
  }
 ],
 "metadata": {
  "kernelspec": {
   "display_name": "Python 3",
   "language": "python",
   "name": "python3"
  },
  "language_info": {
   "codemirror_mode": {
    "name": "ipython",
    "version": 3
   },
   "file_extension": ".py",
   "mimetype": "text/x-python",
   "name": "python",
   "nbconvert_exporter": "python",
   "pygments_lexer": "ipython3",
   "version": "3.12.5"
  }
 },
 "nbformat": 4,
 "nbformat_minor": 2
}
