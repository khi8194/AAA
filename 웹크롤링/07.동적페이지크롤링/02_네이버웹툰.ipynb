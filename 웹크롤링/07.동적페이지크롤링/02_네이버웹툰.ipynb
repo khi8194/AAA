{
 "cells": [
  {
   "cell_type": "code",
   "execution_count": null,
   "metadata": {},
   "outputs": [],
   "source": [
    "# 네이버웹툰 상세페이지에서 BEST 댓글의 닉네임(왼쪽), 내용 추출"
   ]
  },
  {
   "cell_type": "code",
   "execution_count": 2,
   "metadata": {},
   "outputs": [],
   "source": [
    "# 1. 정적페이지 방식\n",
    "\n",
    "import requests\n",
    "from bs4 import BeautifulSoup\n",
    "\n",
    "response = requests.get(\"https://comic.naver.com/webtoon/detail?titleId=747269&no=1&week=wed\")\n",
    "html = response.text\n",
    "soup = BeautifulSoup(html, 'html.parser')"
   ]
  },
  {
   "cell_type": "code",
   "execution_count": null,
   "metadata": {},
   "outputs": [],
   "source": []
  },
  {
   "cell_type": "code",
   "execution_count": 10,
   "metadata": {},
   "outputs": [
    {
     "name": "stdout",
     "output_type": "stream",
     "text": [
      "닉네임:전독시웹툰화축하해요\n",
      "댓글내용:나 닉값해도 되냐\n",
      "닉네임:tjdu****\n",
      "댓글내용:먼저 소설 보신 분들~ 다들 굉장히 감격스럽고 기대되는 장면이 있으시겠죠? 저도 그렇거든요. 그러나 처음 보는 분들도 계시니 저희가 느꼈던 그 전율을 느낄 수 있도록 부디 스포 자제!!!!! 부탁드립니다! 그리고 처음 전.독.시를 보게 되신 분들~ 전지적 독자 시점의 독자가 되신 것을 환영합니다!\n",
      "닉네임:S치킨S\n",
      "댓글내용:「오직 나만이, 이 세계의 결말을 알고있다.」\n",
      "레전드 갓작의 등장입니다..\n",
      "여러분 달리세요. 절 믿고 달리세요..\n",
      "닉네임:김독자\n",
      "댓글내용:이 소설 멸살법 표절 아닌가요? 하 저번에도 s뭐시기 표절 있던데 표절좀 그만하세요;;\n",
      "닉네임:dlek****\n",
      "댓글내용:표절 얘기 드립이에요 ㅎㅎ 작중 나오는 소설 멸살법 표절 드립입니다\n",
      "닉네임:케럿\n",
      "댓글내용:전독시 웹툰 진짜 퀄리티 미쳤다 너무 잘나왔다... 눈물이 앞을 가리네요..\n",
      "닉네임:쌈무\n",
      "댓글내용:소설 안본 놈들이 벨이라고 까더라ㅋㅋㅋㅋ이건 김컴 주인공들이 서로가 서로를 구원하는 구원서사임 오해ㄴㄴ\n",
      "닉네임:전독시뉴비\n",
      "댓글내용:다들 제 닉처럼 행동해주세요\n",
      "닉네임:고등 필독서\n",
      "댓글내용:눈 크게뜨고 봐라.고개 돌리지 말고 봐라.\n",
      "입 다물고 봐라.\n",
      "이 소설 이상한 애들이 bl로 엮으려고 하지만 bl 아니고.\n",
      "다른 소설 플랫폼에서 1위를 밥먹듯이 하는 작품이다.\n",
      "안보면 인생 절반은 손해보는거니 꼭 봐라..이 형이 두손 꼭잡고 추천해준다\n",
      "닉네임:하하\n",
      "댓글내용:비엘 드립 치지마세요 님들만 웹툰 보는거 아님...\n",
      "닉네임:미르\n",
      "댓글내용:나 오늘 이작품 첨 보는데 소설로 엄청 유명한가봐요?  전 여자인데 여자들이 봐도 재밌을까요? 아. 그냥 소설로 달릴까요?\n",
      "닉네임:마요덮밥\n",
      "댓글내용:드디어ㅠㅠ 표절 드립이예요! 소설 원작입니다ㅠㅠ 진짜 재밌게 잘 읽은 작품이예요ㅠㅠ\n",
      "닉네임:dbc\n",
      "댓글내용:여러분 이거 개띵작이에요 꼭 보세요\n",
      "닉네임:쿨라임피지오\n",
      "댓글내용:이 작품 시리즈와 문피아에서 원작 구매 성비 확인해보면 둘 다 남성 비율이 더 높은 거 확인할 수 있음. 웹툰도 10,20대 남성 실시간 랭킹 1위 찍음. 무슨 비엘이라고 자꾸 왜곡하면서 여자만 보는 거처럼 주작질인지 하는지 모르겠네. 며칠동안 동일인이 댓글창 상주하면서 난리치는데 그저 한심함. 닉네임이라도 바꾸고 오던가ㅋㅋㅋㅋ\n",
      "닉네임:백앵\n",
      "댓글내용:#8월의기적_유중혁_생일축하해#HappyJoongHyeokDay_2021\n",
      "#HappyYJHDay0803\n",
      "#중혁아_우린_생일축하를_받을수있다_알지\n",
      "#더이상_고독하지_않을_순례자에게\n",
      "#스타스트림에_패왕_유중혁_탄신축하의_함성이_널리_퍼집니다\n",
      "#촛불이_너무_많아서_불_수_없는_것인가\n",
      "#오늘의_주인공은_너야_중혁아\n",
      "#1864번을_돌아_행복해진_너의_오늘\n"
     ]
    }
   ],
   "source": [
    "# 2. 동적페이지 방식\n",
    "\n",
    "from selenium import webdriver\n",
    "from selenium.webdriver.common.by import By\n",
    "from selenium.webdriver.common.keys import Keys  ## Keys : 클래스라서 대문자로 (파이썬의 규칙)\n",
    "from bs4 import BeautifulSoup\n",
    "\n",
    "import time\n",
    "\n",
    "## 크롬 창이 열리지 않는 옵션을 추가하면서, 약간이 속도 향상 필요\n",
    "## 하지만 작업관리자에는 창이 열려있다는 것을 인지하기! (백그라운드 실행)\n",
    "## 여러번 실행하게 되면,,,,,,,,,,,,, 창이 여러 개 떠있다는 것을 인지하고,,,,,,, ,,종료,,,,,ㅎㅎ\n",
    "chrome_options = webdriver.ChromeOptions()  ## 크롬 옵션 객체 생성\n",
    "chrome_options.add_argument('headless')  ## headless 모드 설정\n",
    "\n",
    "# 크롬 드라이버 설정\n",
    "driver = webdriver.Chrome(options=chrome_options)\n",
    "\n",
    "# 페이지 이동\n",
    "driver.get('https://comic.naver.com/webtoon/detail?titleId=747269&no=1&week=wed')\n",
    "\n",
    "#cbox_module_wai_u_cbox_content_wrap_tabpanel > ul > li.u_cbox_comment.cbox_module__comment_390457776._user_id_no_cBj5H > div.u_cbox_comment_box > div > div.u_cbox_info > span.u_cbox_info_main > span > span > span.u_cbox_nick_area > span\n",
    "\n",
    "html = driver.page_source #드라이버의 html\n",
    "soup = BeautifulSoup(html, 'html.parser')\n",
    "comments =  soup.select('.u_cbox_comment_box')\n",
    "for comment in comments:\n",
    "    nick = comment.select_one('.u_cbox_nick').text\n",
    "    content = comment.select_one('.u_cbox_contents').text\n",
    "\n",
    "    print(f'닉네임:{nick}\\n댓글내용:{content}')\n",
    "\n",
    "\n",
    "driver.quit()"
   ]
  },
  {
   "cell_type": "code",
   "execution_count": 6,
   "metadata": {},
   "outputs": [
    {
     "name": "stdout",
     "output_type": "stream",
     "text": [
      "첫번째 BEST댓글 닉네임: 전독시웹툰화축하해요\n",
      "첫번째 BEST댓글 내용: 나 닉값해도 되냐\n",
      "\n"
     ]
    }
   ],
   "source": [
    "dynamic_nick = soup.select_one('#cbox_module_wai_u_cbox_content_wrap_tabpanel > ul > li.u_cbox_comment.cbox_module__comment_390457776._user_id_no_cBj5H > div.u_cbox_comment_box > div > div.u_cbox_info > span.u_cbox_info_main > span > span > span.u_cbox_nick_area > span').text\n",
    "dynamic_chat = soup.select_one('#cbox_module_wai_u_cbox_content_wrap_tabpanel > ul > li.u_cbox_comment.cbox_module__comment_390457776._user_id_no_cBj5H > div.u_cbox_comment_box > div > div.u_cbox_text_wrap > span.u_cbox_contents').text\n",
    "\n",
    "print(f'첫번째 BEST댓글 닉네임: {dynamic_nick}\\n첫번째 BEST댓글 내용: {dynamic_chat}\\n')"
   ]
  },
  {
   "cell_type": "code",
   "execution_count": 7,
   "metadata": {},
   "outputs": [],
   "source": [
    "driver.quit()"
   ]
  },
  {
   "cell_type": "code",
   "execution_count": null,
   "metadata": {},
   "outputs": [],
   "source": []
  }
 ],
 "metadata": {
  "kernelspec": {
   "display_name": "Python 3",
   "language": "python",
   "name": "python3"
  },
  "language_info": {
   "codemirror_mode": {
    "name": "ipython",
    "version": 3
   },
   "file_extension": ".py",
   "mimetype": "text/x-python",
   "name": "python",
   "nbconvert_exporter": "python",
   "pygments_lexer": "ipython3",
   "version": "3.12.5"
  }
 },
 "nbformat": 4,
 "nbformat_minor": 2
}
