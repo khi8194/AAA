{
 "cells": [
  {
   "cell_type": "code",
   "execution_count": null,
   "metadata": {},
   "outputs": [],
   "source": [
    "#자료평\n",
    "#문자열 (struing) - \"문자\",'문자'\n",
    "#숫자 (정수:integer - 5, 10, 15 , 실수:float) - 1.7 , 3.14 , 0.0\n",
    "#불린 (boolean) - True, False"
   ]
  },
  {
   "cell_type": "code",
   "execution_count": 2,
   "metadata": {},
   "outputs": [],
   "source": [
    "#변수 - 데이터를 저장하는 공간\n",
    "name = '유미' # 유미라는 데이터를 name에 저장한다.\n",
    "level = 6\n",
    "hp = 950\n",
    "message = '나랑 유미랑!'"
   ]
  },
  {
   "cell_type": "code",
   "execution_count": 3,
   "metadata": {},
   "outputs": [
    {
     "data": {
      "text/plain": [
       "'유미'"
      ]
     },
     "execution_count": 3,
     "metadata": {},
     "output_type": "execute_result"
    }
   ],
   "source": [
    "name"
   ]
  },
  {
   "cell_type": "code",
   "execution_count": 4,
   "metadata": {},
   "outputs": [
    {
     "data": {
      "text/plain": [
       "6"
      ]
     },
     "execution_count": 4,
     "metadata": {},
     "output_type": "execute_result"
    }
   ],
   "source": [
    "level"
   ]
  },
  {
   "cell_type": "code",
   "execution_count": 10,
   "metadata": {},
   "outputs": [
    {
     "name": "stdout",
     "output_type": "stream",
     "text": [
      "이름 - 유미\n",
      "레벨 - 6\n",
      "체력 - 950\n",
      "대사 - 나랑 유미랑!\n"
     ]
    }
   ],
   "source": [
    "# print('이름 -', name)\n",
    "print(f'이름 - {name}')\n",
    "print(f'레벨 - {level}')\n",
    "print(f'체력 - {hp}')\n",
    "print(f'대사 - {message}')"
   ]
  },
  {
   "cell_type": "code",
   "execution_count": null,
   "metadata": {},
   "outputs": [],
   "source": [
    "inp"
   ]
  }
 ],
 "metadata": {
  "kernelspec": {
   "display_name": "Python 3",
   "language": "python",
   "name": "python3"
  },
  "language_info": {
   "codemirror_mode": {
    "name": "ipython",
    "version": 3
   },
   "file_extension": ".py",
   "mimetype": "text/x-python",
   "name": "python",
   "nbconvert_exporter": "python",
   "pygments_lexer": "ipython3",
   "version": "3.12.5"
  }
 },
 "nbformat": 4,
 "nbformat_minor": 2
}
