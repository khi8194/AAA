{
 "cells": [
  {
   "cell_type": "code",
   "execution_count": 2,
   "metadata": {},
   "outputs": [
    {
     "name": "stdout",
     "output_type": "stream",
     "text": [
      "120\n",
      "200\n"
     ]
    }
   ],
   "source": [
    "#리스트\n",
    "scores = [120,150,180,200,170]\n",
    "print(scores[0])\n",
    "print(scores[3])"
   ]
  },
  {
   "cell_type": "code",
   "execution_count": 3,
   "metadata": {},
   "outputs": [
    {
     "name": "stdout",
     "output_type": "stream",
     "text": [
      "14400\n",
      "---\n",
      "12000\n",
      "22500\n",
      "---\n",
      "15000\n",
      "32400\n",
      "---\n",
      "18000\n",
      "40000\n",
      "---\n",
      "20000\n",
      "28900\n",
      "---\n",
      "17000\n"
     ]
    }
   ],
   "source": [
    "for score in scores:\n",
    "    print(score**2)\n",
    "    print('---')\n",
    "    print(score*100)"
   ]
  },
  {
   "cell_type": "code",
   "execution_count": 6,
   "metadata": {},
   "outputs": [
    {
     "name": "stdout",
     "output_type": "stream",
     "text": [
      "최고점수:200\n"
     ]
    }
   ],
   "source": [
    "max_score = 0\n",
    "#scores = [120,150,180,200,170]\n",
    "for i in range(0,len(scores)):\n",
    "    if(max_score < scores[i]):\n",
    "        max_score = scores[i]\n",
    "\n",
    "print(f'최고점수:{max_score}')"
   ]
  },
  {
   "cell_type": "code",
   "execution_count": null,
   "metadata": {},
   "outputs": [],
   "source": []
  }
 ],
 "metadata": {
  "kernelspec": {
   "display_name": "Python 3",
   "language": "python",
   "name": "python3"
  },
  "language_info": {
   "codemirror_mode": {
    "name": "ipython",
    "version": 3
   },
   "file_extension": ".py",
   "mimetype": "text/x-python",
   "name": "python",
   "nbconvert_exporter": "python",
   "pygments_lexer": "ipython3",
   "version": "3.12.5"
  }
 },
 "nbformat": 4,
 "nbformat_minor": 2
}
