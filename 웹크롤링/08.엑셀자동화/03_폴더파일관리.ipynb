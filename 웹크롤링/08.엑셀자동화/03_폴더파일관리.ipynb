{
 "cells": [
  {
   "cell_type": "code",
   "execution_count": 1,
   "metadata": {},
   "outputs": [],
   "source": [
    "import os\n",
    "\n",
    "#상대 경로 이용 1\n",
    "os.mkdir('./알파코')"
   ]
  },
  {
   "cell_type": "code",
   "execution_count": 2,
   "metadata": {},
   "outputs": [],
   "source": [
    "#상대 경로 이용 2\n",
    "os.mkdir('스타트코딩')"
   ]
  },
  {
   "cell_type": "code",
   "execution_count": 3,
   "metadata": {},
   "outputs": [],
   "source": [
    "#상대 경로 이용 3\n",
    "os.mkdir('../09.기타')"
   ]
  },
  {
   "cell_type": "code",
   "execution_count": 7,
   "metadata": {},
   "outputs": [],
   "source": [
    "#절대 경로 이용 1\n",
    "os.mkdir('d:/workspace/08.엑셀자동화/어게인코딩')"
   ]
  },
  {
   "cell_type": "code",
   "execution_count": 8,
   "metadata": {},
   "outputs": [],
   "source": [
    "#절대 경로 이용 2\n",
    "os.mkdir('d:\\\\workspace\\\\08.엑셀자동화\\\\혜인폴더')    ##  \\\\는 항상 2개로!!! (이스케이프 문자이기 때문에!)"
   ]
  },
  {
   "cell_type": "code",
   "execution_count": 19,
   "metadata": {},
   "outputs": [],
   "source": [
    "#절대 경로 이용 2 삭제\n",
    "os.rmdir(r'd:\\workspace\\08.엑셀자동화\\혜인폴더')    ##  raw 는 문자열로 취급"
   ]
  },
  {
   "cell_type": "code",
   "execution_count": 20,
   "metadata": {},
   "outputs": [
    {
     "name": "stdout",
     "output_type": "stream",
     "text": [
      "폴더생성완료\n"
     ]
    }
   ],
   "source": [
    "# 폴더가 없을 때만 만들기\n",
    "check = os.path.exists(r'd:\\workspace\\08.엑셀자동화\\혜인폴더')\n",
    "if check == False:\n",
    "    os.mkdir(r'd:\\workspace\\08.엑셀자동화\\혜인폴더')\n",
    "    print('폴더생성완료')\n",
    "else:\n",
    "    print('폴더 이름이 중복됐습니다.')"
   ]
  },
  {
   "cell_type": "code",
   "execution_count": 23,
   "metadata": {},
   "outputs": [
    {
     "data": {
      "text/plain": [
       "'01.리퀘스트사용법.ipynb'"
      ]
     },
     "execution_count": 23,
     "metadata": {},
     "output_type": "execute_result"
    }
   ],
   "source": [
    "import glob\n",
    "\n",
    "# glob.glob('../05.정적페이지크롤링/*.ipynb')\n",
    "\n",
    "# 상대경로로 목록 가져오고 그 목록을 1개 보기(경로제외 파일 이름만)\n",
    "files = glob.glob('../05.정적페이지크롤링/*.ipynb')\n",
    "os.path.basename(files[0])"
   ]
  },
  {
   "cell_type": "code",
   "execution_count": 25,
   "metadata": {},
   "outputs": [
    {
     "data": {
      "text/plain": [
       "['d:\\\\workspace\\\\05.정적페이지크롤링\\\\네이버증권뉴스.xlsx',\n",
       " 'd:\\\\workspace\\\\05.정적페이지크롤링\\\\상픔상세내역.xlsx']"
      ]
     },
     "execution_count": 25,
     "metadata": {},
     "output_type": "execute_result"
    }
   ],
   "source": [
    "# Q절대경로형태로, 05. 정적페이지크롤링 폴더의 엑셀 파일 목록 가져오기\n",
    "\n",
    "glob.glob(r'd:\\workspace\\05.정적페이지크롤링\\*.xlsx')"
   ]
  },
  {
   "cell_type": "code",
   "execution_count": 27,
   "metadata": {},
   "outputs": [
    {
     "data": {
      "text/plain": [
       "['d:\\\\workspace\\\\05.정적페이지크롤링\\\\03.1단계.ipynb',\n",
       " 'd:\\\\workspace\\\\05.정적페이지크롤링\\\\04.2단계.ipynb',\n",
       " 'd:\\\\workspace\\\\05.정적페이지크롤링\\\\05.3단계.ipynb']"
      ]
     },
     "execution_count": 27,
     "metadata": {},
     "output_type": "execute_result"
    }
   ],
   "source": [
    "glob.glob(r'd:\\workspace\\05.정적페이지크롤링\\*.[123]단계.ipynb')"
   ]
  },
  {
   "cell_type": "code",
   "execution_count": 31,
   "metadata": {},
   "outputs": [
    {
     "data": {
      "text/plain": [
       "['d:\\\\workspace\\\\05.정적페이지크롤링\\\\03.1단계.ipynb',\n",
       " 'd:\\\\workspace\\\\05.정적페이지크롤링\\\\05.3단계.ipynb']"
      ]
     },
     "execution_count": 31,
     "metadata": {},
     "output_type": "execute_result"
    }
   ],
   "source": [
    "glob.glob(r'd:\\workspace\\05.정적페이지크롤링\\*.[13]단계.ipynb')"
   ]
  },
  {
   "cell_type": "code",
   "execution_count": 29,
   "metadata": {},
   "outputs": [
    {
     "data": {
      "text/plain": [
       "['d:\\\\workspace\\\\05.정적페이지크롤링\\\\img\\\\1.jpg',\n",
       " 'd:\\\\workspace\\\\05.정적페이지크롤링\\\\img\\\\2.jpg',\n",
       " 'd:\\\\workspace\\\\05.정적페이지크롤링\\\\img\\\\3.jpg',\n",
       " 'd:\\\\workspace\\\\05.정적페이지크롤링\\\\img\\\\4.jpg',\n",
       " 'd:\\\\workspace\\\\05.정적페이지크롤링\\\\img\\\\5.jpg',\n",
       " 'd:\\\\workspace\\\\05.정적페이지크롤링\\\\img\\\\6.jpg',\n",
       " 'd:\\\\workspace\\\\05.정적페이지크롤링\\\\img\\\\7.jpg',\n",
       " 'd:\\\\workspace\\\\05.정적페이지크롤링\\\\img\\\\8.jpg',\n",
       " 'd:\\\\workspace\\\\05.정적페이지크롤링\\\\img\\\\9.jpg']"
      ]
     },
     "execution_count": 29,
     "metadata": {},
     "output_type": "execute_result"
    }
   ],
   "source": [
    "glob.glob(r'd:\\workspace\\05.정적페이지크롤링\\img\\?.jpg')"
   ]
  },
  {
   "cell_type": "code",
   "execution_count": 30,
   "metadata": {},
   "outputs": [
    {
     "data": {
      "text/plain": [
       "['d:\\\\workspace\\\\05.정적페이지크롤링\\\\img\\\\10.jpg',\n",
       " 'd:\\\\workspace\\\\05.정적페이지크롤링\\\\img\\\\11.jpg',\n",
       " 'd:\\\\workspace\\\\05.정적페이지크롤링\\\\img\\\\12.jpg',\n",
       " 'd:\\\\workspace\\\\05.정적페이지크롤링\\\\img\\\\13.jpg',\n",
       " 'd:\\\\workspace\\\\05.정적페이지크롤링\\\\img\\\\14.jpg',\n",
       " 'd:\\\\workspace\\\\05.정적페이지크롤링\\\\img\\\\15.jpg',\n",
       " 'd:\\\\workspace\\\\05.정적페이지크롤링\\\\img\\\\16.jpg',\n",
       " 'd:\\\\workspace\\\\05.정적페이지크롤링\\\\img\\\\17.jpg',\n",
       " 'd:\\\\workspace\\\\05.정적페이지크롤링\\\\img\\\\18.jpg',\n",
       " 'd:\\\\workspace\\\\05.정적페이지크롤링\\\\img\\\\19.jpg',\n",
       " 'd:\\\\workspace\\\\05.정적페이지크롤링\\\\img\\\\20.jpg',\n",
       " 'd:\\\\workspace\\\\05.정적페이지크롤링\\\\img\\\\21.jpg']"
      ]
     },
     "execution_count": 30,
     "metadata": {},
     "output_type": "execute_result"
    }
   ],
   "source": [
    "glob.glob(r'd:\\workspace\\05.정적페이지크롤링\\img\\??.jpg')"
   ]
  },
  {
   "cell_type": "code",
   "execution_count": null,
   "metadata": {},
   "outputs": [],
   "source": []
  }
 ],
 "metadata": {
  "kernelspec": {
   "display_name": "Python 3",
   "language": "python",
   "name": "python3"
  },
  "language_info": {
   "codemirror_mode": {
    "name": "ipython",
    "version": 3
   },
   "file_extension": ".py",
   "mimetype": "text/x-python",
   "name": "python",
   "nbconvert_exporter": "python",
   "pygments_lexer": "ipython3",
   "version": "3.12.5"
  }
 },
 "nbformat": 4,
 "nbformat_minor": 2
}
