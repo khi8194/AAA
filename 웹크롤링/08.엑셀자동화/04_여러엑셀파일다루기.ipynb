{
 "cells": [
  {
   "cell_type": "code",
   "execution_count": 1,
   "metadata": {},
   "outputs": [],
   "source": [
    "# 데이터  파일 다운로드 받는 곳\n",
    "# https://cafe.naver.com/startcodingofficial/2"
   ]
  },
  {
   "cell_type": "code",
   "execution_count": 12,
   "metadata": {},
   "outputs": [
    {
     "data": {
      "text/plain": [
       "['C:\\\\Users\\\\hyein kim\\\\Downloads\\\\공유폴더\\\\세금계산서_놀부전자.xlsx',\n",
       " 'C:\\\\Users\\\\hyein kim\\\\Downloads\\\\공유폴더\\\\세금계산서_제비공업.xlsx',\n",
       " 'C:\\\\Users\\\\hyein kim\\\\Downloads\\\\공유폴더\\\\세금계산서_콩쥐하이텍.xlsx',\n",
       " 'C:\\\\Users\\\\hyein kim\\\\Downloads\\\\공유폴더\\\\세금계산서_팥쥐엔지니어링.xlsx',\n",
       " 'C:\\\\Users\\\\hyein kim\\\\Downloads\\\\공유폴더\\\\세금계산서_흥부전자.xlsx']"
      ]
     },
     "execution_count": 12,
     "metadata": {},
     "output_type": "execute_result"
    }
   ],
   "source": [
    "# 세금계산서 5개 파일 경로 가져오기\n",
    "import glob\n",
    "import xlwings as xw\n",
    "\n",
    "files = glob.glob(r'C:\\Users\\hyein kim\\Downloads\\공유폴더\\세금계산서*.xlsx')\n",
    "files"
   ]
  },
  {
   "cell_type": "code",
   "execution_count": 16,
   "metadata": {},
   "outputs": [],
   "source": [
    "#앱만들기\n",
    "app = xw.App(add_book=False)\n",
    "\n",
    "for file in files:\n",
    "    # 워크북 불러오기\n",
    "    wb = app.books.open(file)\n",
    "    \n",
    "    #워크시트 선택\n",
    "    ws = wb.sheets['자료입력페이지']\n",
    "\n",
    "    #셀 값 수정\n",
    "    ws.range('C14').value='=TODAY()'\n",
    "    # ws.range('C14').value = '2024-08-01'\n",
    "    #print(file)\n",
    "\n",
    "    #저장\n",
    "    wb.save()\n",
    "\n",
    "#닫기\n",
    "app.quit()\n"
   ]
  },
  {
   "cell_type": "code",
   "execution_count": null,
   "metadata": {},
   "outputs": [],
   "source": []
  }
 ],
 "metadata": {
  "kernelspec": {
   "display_name": "Python 3",
   "language": "python",
   "name": "python3"
  },
  "language_info": {
   "codemirror_mode": {
    "name": "ipython",
    "version": 3
   },
   "file_extension": ".py",
   "mimetype": "text/x-python",
   "name": "python",
   "nbconvert_exporter": "python",
   "pygments_lexer": "ipython3",
   "version": "3.12.5"
  }
 },
 "nbformat": 4,
 "nbformat_minor": 2
}
