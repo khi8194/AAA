{
 "cells": [
  {
   "cell_type": "code",
   "execution_count": 48,
   "metadata": {},
   "outputs": [],
   "source": [
    "from selenium import webdriver\n",
    "from selenium.webdriver.common.by import By\n",
    "from selenium.webdriver.support.ui import Select\n",
    "# 크롬 드라이버 설정\n",
    "driver = webdriver.Chrome()\n",
    "\n",
    "# 페이지 이동\n",
    "driver.get('https://etk.srail.kr/hpg/hra/01/selectScheduleList.do?pageId=TK0101010000')"
   ]
  },
  {
   "cell_type": "code",
   "execution_count": 40,
   "metadata": {},
   "outputs": [],
   "source": [
    "# ctrl + shift + c\n",
    "\n",
    "# 수서 -> 동탄  : #dptRsStnCdNm\n",
    "search = driver.find_element(By.CSS_SELECTOR, '#dptRsStnCdNm')\n",
    "search.clear()\n",
    "search.send_keys('동탄')"
   ]
  },
  {
   "cell_type": "code",
   "execution_count": 41,
   "metadata": {},
   "outputs": [],
   "source": [
    "# 부산 -> 동대구 : #arvRsStnCdNm\n",
    "search = driver.find_element(By.CSS_SELECTOR, '#arvRsStnCdNm')\n",
    "search.clear()\n",
    "search.send_keys('동대구')\n",
    "\n"
   ]
  },
  {
   "cell_type": "code",
   "execution_count": 42,
   "metadata": {},
   "outputs": [],
   "source": [
    "# 8/24 : #dptDt\n",
    "# search = driver.find_element(By.ID, 'dptDt')\n",
    "\n",
    "search = driver.find_element(By.CSS_SELECTOR, '#dptDt')\n",
    "select = Select(search)\n",
    "#select.select_by_index(2)  ## index로 select\n",
    "#select.select_by_value('20240824')  ## value로 select\n",
    "select.select_by_visible_text('2024/08/24(토)')  ## text로 select\n",
    "\n"
   ]
  },
  {
   "cell_type": "code",
   "execution_count": 43,
   "metadata": {},
   "outputs": [],
   "source": [
    "# 06시 : #dptTm\n",
    "search = driver.find_element(By.CSS_SELECTOR, '#dptTm')\n",
    "# search.click()\n",
    "select = Select(search)\n",
    "select.select_by_index(3)"
   ]
  },
  {
   "cell_type": "code",
   "execution_count": 47,
   "metadata": {},
   "outputs": [],
   "source": [
    "#차종 선택 : #trnGpCd300\n",
    "driver.find_element(By.CSS_SELECTOR, '#trnGpCd300').click()\n",
    "# search = driver.find_element(By.CSS_SELECTOR, '#trnGpCd300')\n",
    "# search.click()"
   ]
  },
  {
   "cell_type": "code",
   "execution_count": 49,
   "metadata": {},
   "outputs": [],
   "source": [
    "# 조회하기 : #search_top_tag > input\n",
    "driver.find_element(By.CSS_SELECTOR, '#search_top_tag > input').click()\n",
    "# search = driver.find_element(By.CSS_SELECTOR, '#search_top_tag > input')\n",
    "# search.click()"
   ]
  },
  {
   "cell_type": "code",
   "execution_count": 38,
   "metadata": {},
   "outputs": [],
   "source": [
    "driver.quit()"
   ]
  },
  {
   "cell_type": "code",
   "execution_count": null,
   "metadata": {},
   "outputs": [],
   "source": []
  }
 ],
 "metadata": {
  "kernelspec": {
   "display_name": "Python 3",
   "language": "python",
   "name": "python3"
  },
  "language_info": {
   "codemirror_mode": {
    "name": "ipython",
    "version": 3
   },
   "file_extension": ".py",
   "mimetype": "text/x-python",
   "name": "python",
   "nbconvert_exporter": "python",
   "pygments_lexer": "ipython3",
   "version": "3.12.5"
  }
 },
 "nbformat": 4,
 "nbformat_minor": 2
}
