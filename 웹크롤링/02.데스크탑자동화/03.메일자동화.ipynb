{
 "cells": [
  {
   "cell_type": "code",
   "execution_count": 2,
   "metadata": {},
   "outputs": [
    {
     "name": "stdout",
     "output_type": "stream",
     "text": [
      "Collecting pillow\n",
      "  Downloading pillow-10.4.0-cp312-cp312-win_amd64.whl.metadata (9.3 kB)\n",
      "Downloading pillow-10.4.0-cp312-cp312-win_amd64.whl (2.6 MB)\n",
      "   ---------------------------------------- 0.0/2.6 MB ? eta -:--:--\n",
      "   ---------------------------- ----------- 1.8/2.6 MB 9.1 MB/s eta 0:00:01\n",
      "   ---------------------------------------- 2.6/2.6 MB 7.7 MB/s eta 0:00:00\n",
      "Installing collected packages: pillow\n",
      "Successfully installed pillow-10.4.0\n",
      "Note: you may need to restart the kernel to use updated packages.\n"
     ]
    }
   ],
   "source": [
    "pip install pillow"
   ]
  },
  {
   "cell_type": "code",
   "execution_count": 23,
   "metadata": {},
   "outputs": [],
   "source": [
    "import pyautogui\n",
    "\n",
    "pyautogui.mouseInfo()"
   ]
  },
  {
   "cell_type": "code",
   "execution_count": 27,
   "metadata": {},
   "outputs": [],
   "source": [
    "import time\n",
    "import pyperclip\n",
    "\n",
    "pyautogui.alert(text = '프로그램을 실행하겠습니까?', title = '알림', button='Yes')\n",
    "\n",
    "# 메일 쓰기 버튼\n",
    "pyautogui.click(74,163, duration=2)\n",
    "\n",
    "## 받는 사람(kgj756@naver.com)\n",
    "# pyautogui.click(493,271, duration=2)\n",
    "time.sleep(1)\n",
    "pyautogui.write('kgj756@naver.com', interval=0.1)  # interval = 0.1 만 설정할 경우 메일주소의 앞자리가 잘려서 입력될 수 있다. 타이핑 속도가 더 빠르기 때문에 time.sleep 설정!\n",
    "pyautogui.press('tab', presses=2, interval=1) #tab을 1초간격으로 2번 누름.\n",
    "pyautogui\n",
    "\n",
    "# 제목\n",
    "# pyautogui.click(505,351, duration=2)\n",
    "# pyautogui.write('RM202', interval=0.1)\n",
    "pyautogui.copy('파이썬 노잼')\n",
    "pyautogui.hotkey('ctrl','v')\n",
    "pyautogui.press('tab')\n",
    "\n",
    "# 본문\n",
    "# pyautogui.click(357,599, duration=2)\n",
    "# pyautogui.write('GTC0808#', interval=0.1)\n",
    "pyautogui.copy('파이썬 노잼')\n",
    "pyautogui.hotkey('ctrl','v')\n",
    "\n",
    "# 보내기 버튼\n",
    "pyautogui.click(320,220, duration=2)\n"
   ]
  },
  {
   "cell_type": "code",
   "execution_count": null,
   "metadata": {},
   "outputs": [],
   "source": []
  }
 ],
 "metadata": {
  "kernelspec": {
   "display_name": "Python 3",
   "language": "python",
   "name": "python3"
  },
  "language_info": {
   "codemirror_mode": {
    "name": "ipython",
    "version": 3
   },
   "file_extension": ".py",
   "mimetype": "text/x-python",
   "name": "python",
   "nbconvert_exporter": "python",
   "pygments_lexer": "ipython3",
   "version": "3.12.5"
  }
 },
 "nbformat": 4,
 "nbformat_minor": 2
}
