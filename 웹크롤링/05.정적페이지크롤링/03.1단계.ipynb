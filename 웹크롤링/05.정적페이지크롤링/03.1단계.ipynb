{
 "cells": [
  {
   "cell_type": "code",
   "execution_count": null,
   "metadata": {},
   "outputs": [],
   "source": [
    "# 첫번째 상품의 카테고리, 상품명, 상품링크, 가격 추출하기"
   ]
  },
  {
   "cell_type": "code",
   "execution_count": 2,
   "metadata": {},
   "outputs": [],
   "source": [
    "import requests\n",
    "from bs4 import BeautifulSoup\n",
    "\n",
    "response = requests.get(\"https://startcoding.pythonanywhere.com/basic\")\n",
    "html = response.text\n",
    "soup = BeautifulSoup(html, 'html.parser')"
   ]
  },
  {
   "cell_type": "code",
   "execution_count": 3,
   "metadata": {},
   "outputs": [
    {
     "name": "stdout",
     "output_type": "stream",
     "text": [
      "노트북\n",
      "에이서 스위프트 GO 16 OLED, 스틸 그레이, 코어i7, 512GB, 16GB, WIN11 Home, SFG16-71-77FT\n",
      "#product1_detail.html\n",
      "1,419,000원\n",
      "\t\t\t\t\t\t\t\t\t\t\n",
      "\t\t\t\t\t\t\t\t\t\n"
     ]
    }
   ],
   "source": [
    "category = soup.select_one('.product-category').text\n",
    "name = soup.select_one('.product-name').text\n",
    "link = soup.select_one('.product-name>a').attrs['href']\n",
    "price = soup.select_one('.product-price').text\n",
    "\n",
    "print(category, name, link, price, sep='\\n') #sep : 구분자 (, 대신 \\n)"
   ]
  },
  {
   "cell_type": "code",
   "execution_count": 26,
   "metadata": {},
   "outputs": [
    {
     "name": "stdout",
     "output_type": "stream",
     "text": [
      "[<p class=\"product-category\">노트북</p>, <p class=\"product-category\">노트북</p>, <p class=\"product-category\">노트북</p>, <p class=\"product-category\">노트북</p>, <p class=\"product-category\">노트북</p>, <p class=\"product-category\">노트북</p>, <p class=\"product-category\">노트북</p>, <p class=\"product-category\">노트북</p>, <p class=\"product-category\">노트북</p>, <p class=\"product-category\">노트북</p>]\n",
      "에이서 스위프트 GO 16 OLED, 스틸 그레이, 코어i7, 512GB, 16GB, WIN11 Home, SFG16-71-77FT\n",
      "#product1_detail.html\n",
      "1,419,000원\n",
      "\t\t\t\t\t\t\t\t\t\t\n",
      "\t\t\t\t\t\t\t\t\t\n"
     ]
    },
    {
     "data": {
      "text/plain": [
       "'1,419,000원'"
      ]
     },
     "execution_count": 26,
     "metadata": {},
     "output_type": "execute_result"
    }
   ],
   "source": [
    "print(soup.select('.product-category'))\n",
    "print(soup.select_one('.product-name').text)\n",
    "print(soup.select_one('.product-name>a').attrs['href'])\n",
    "print(soup.select_one('.product-price').text)\n",
    "\n",
    "soup.select_one('.product-price').text\n",
    "soup.select_one('.product-price').text.strip()\n",
    "\n",
    "\n",
    "\n",
    "#escape code\n",
    "# \\n : 줄바꿈\n",
    "# \\t : tab\n",
    "# for i in range(0,len(list)):\n",
    "    # print(list[i].text.split(',')[0])"
   ]
  },
  {
   "cell_type": "code",
   "execution_count": 27,
   "metadata": {},
   "outputs": [
    {
     "data": {
      "text/plain": [
       "'1,419,000원\\n\\t\\t\\t\\t\\t\\t\\t\\t\\t\\t\\n\\t\\t\\t\\t\\t\\t\\t\\t\\t'"
      ]
     },
     "execution_count": 27,
     "metadata": {},
     "output_type": "execute_result"
    }
   ],
   "source": [
    "soup.select_one('.product-price').text"
   ]
  },
  {
   "cell_type": "code",
   "execution_count": 28,
   "metadata": {},
   "outputs": [
    {
     "data": {
      "text/plain": [
       "'1,419,000원'"
      ]
     },
     "execution_count": 28,
     "metadata": {},
     "output_type": "execute_result"
    }
   ],
   "source": [
    "soup.select_one('.product-price').text.strip()"
   ]
  },
  {
   "cell_type": "code",
   "execution_count": 30,
   "metadata": {},
   "outputs": [
    {
     "data": {
      "text/plain": [
       "'공 백제 거'"
      ]
     },
     "execution_count": 30,
     "metadata": {},
     "output_type": "execute_result"
    }
   ],
   "source": [
    "('      \\t 공 백제 거 \\n   ').strip()"
   ]
  },
  {
   "cell_type": "code",
   "execution_count": 31,
   "metadata": {},
   "outputs": [
    {
     "data": {
      "text/plain": [
       "'공 백제 거'"
      ]
     },
     "execution_count": 31,
     "metadata": {},
     "output_type": "execute_result"
    }
   ],
   "source": [
    "('      \\t 공 백제 거 \\n   ').replace('\\t','').strip()"
   ]
  },
  {
   "cell_type": "code",
   "execution_count": null,
   "metadata": {},
   "outputs": [],
   "source": []
  }
 ],
 "metadata": {
  "kernelspec": {
   "display_name": "Python 3",
   "language": "python",
   "name": "python3"
  },
  "language_info": {
   "codemirror_mode": {
    "name": "ipython",
    "version": 3
   },
   "file_extension": ".py",
   "mimetype": "text/x-python",
   "name": "python",
   "nbconvert_exporter": "python",
   "pygments_lexer": "ipython3",
   "version": "3.12.5"
  }
 },
 "nbformat": 4,
 "nbformat_minor": 2
}
