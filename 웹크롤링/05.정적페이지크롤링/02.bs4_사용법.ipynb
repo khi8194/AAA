{
 "cells": [
  {
   "cell_type": "code",
   "execution_count": 1,
   "metadata": {},
   "outputs": [
    {
     "name": "stdout",
     "output_type": "stream",
     "text": [
      "Collecting bs4\n",
      "  Downloading bs4-0.0.2-py2.py3-none-any.whl.metadata (411 bytes)\n",
      "Collecting beautifulsoup4 (from bs4)\n",
      "  Downloading beautifulsoup4-4.12.3-py3-none-any.whl.metadata (3.8 kB)\n",
      "Collecting soupsieve>1.2 (from beautifulsoup4->bs4)\n",
      "  Downloading soupsieve-2.6-py3-none-any.whl.metadata (4.6 kB)\n",
      "Downloading bs4-0.0.2-py2.py3-none-any.whl (1.2 kB)\n",
      "Downloading beautifulsoup4-4.12.3-py3-none-any.whl (147 kB)\n",
      "Downloading soupsieve-2.6-py3-none-any.whl (36 kB)\n",
      "Installing collected packages: soupsieve, beautifulsoup4, bs4\n",
      "Successfully installed beautifulsoup4-4.12.3 bs4-0.0.2 soupsieve-2.6\n",
      "Note: you may need to restart the kernel to use updated packages.\n"
     ]
    }
   ],
   "source": [
    "pip install bs4"
   ]
  },
  {
   "cell_type": "code",
   "execution_count": 2,
   "metadata": {},
   "outputs": [],
   "source": [
    "import requests\n",
    "from bs4 import BeautifulSoup"
   ]
  },
  {
   "cell_type": "code",
   "execution_count": 6,
   "metadata": {},
   "outputs": [
    {
     "data": {
      "text/plain": [
       "<h3 class=\"product-name\"><a href=\"#product1_detail.html\">에이서 스위프트 GO 16 OLED, 스틸 그레이, 코어i7, 512GB, 16GB, WIN11 Home, SFG16-71-77FT</a></h3>"
      ]
     },
     "execution_count": 6,
     "metadata": {},
     "output_type": "execute_result"
    }
   ],
   "source": [
    "response = requests.get(\"https://startcoding.pythonanywhere.com/basic\")\n",
    "html = response.text\n",
    "soup = BeautifulSoup(html, 'html.parser')\n",
    "soup.select_one(\".product-name\")  # 선택자 : 클래스 ### h3 라는 태그를 가져옴"
   ]
  },
  {
   "cell_type": "code",
   "execution_count": 7,
   "metadata": {},
   "outputs": [
    {
     "data": {
      "text/plain": [
       "'에이서 스위프트 GO 16 OLED, 스틸 그레이, 코어i7, 512GB, 16GB, WIN11 Home, SFG16-71-77FT'"
      ]
     },
     "execution_count": 7,
     "metadata": {},
     "output_type": "execute_result"
    }
   ],
   "source": [
    "soup.select_one(\".product-name\").text  ## 텍스트만 출력"
   ]
  },
  {
   "cell_type": "code",
   "execution_count": 13,
   "metadata": {},
   "outputs": [
    {
     "name": "stdout",
     "output_type": "stream",
     "text": [
      "에이서 스위프트 GO 16 OLED\n",
      "삼성전자 노트북 플러스2 15.6\n",
      "레노버 아이디어패드 슬림 1 15AMN7 15.6\n",
      "레노버 V15 G4 AMN 15.6\n",
      "LG 울트라PC 엣지 16\n",
      "베이직스 베이직북 14 3세대\n",
      "레노버 아이디어패드 슬림 5i 14IRL 14\n",
      "레노버 아이디어패드 슬림 5 16IRL 16\n",
      "에이서 스위프트 GO 16 OLED\n",
      "삼성전자 갤럭시북 2 15.6\n"
     ]
    }
   ],
   "source": [
    "lsit=[]\n",
    "list=soup.select(\".product-name\")  # 선택자 : 클래스 ### h3 라는 태그를 가져옴\n",
    "\n",
    "for i in range(0,len(list)):\n",
    "    print(list[i].text.split(',')[0])"
   ]
  },
  {
   "cell_type": "code",
   "execution_count": 14,
   "metadata": {},
   "outputs": [
    {
     "data": {
      "text/plain": [
       "<a class=\"email\" href=\"#\"><i class=\"fa fa-envelope-o\"></i> kkj6369@naver.com</a>"
      ]
     },
     "execution_count": 14,
     "metadata": {},
     "output_type": "execute_result"
    }
   ],
   "source": [
    "soup.select_one('.email')  ##태그하나찾기"
   ]
  },
  {
   "cell_type": "code",
   "execution_count": 15,
   "metadata": {},
   "outputs": [
    {
     "data": {
      "text/plain": [
       "' kkj6369@naver.com'"
      ]
     },
     "execution_count": 15,
     "metadata": {},
     "output_type": "execute_result"
    }
   ],
   "source": [
    "soup.select_one('.email').text  ##텍스트추출"
   ]
  },
  {
   "cell_type": "code",
   "execution_count": 16,
   "metadata": {},
   "outputs": [
    {
     "data": {
      "text/plain": [
       "{'class': ['email'], 'href': '#'}"
      ]
     },
     "execution_count": 16,
     "metadata": {},
     "output_type": "execute_result"
    }
   ],
   "source": [
    "soup.select_one('.email').attrs  ##속성추출\n",
    "## attrs의 자료형은 dictionary"
   ]
  },
  {
   "cell_type": "code",
   "execution_count": 17,
   "metadata": {},
   "outputs": [
    {
     "data": {
      "text/plain": [
       "'#'"
      ]
     },
     "execution_count": 17,
     "metadata": {},
     "output_type": "execute_result"
    }
   ],
   "source": [
    "soup.select_one('.email').attrs['href']"
   ]
  },
  {
   "cell_type": "code",
   "execution_count": 25,
   "metadata": {},
   "outputs": [
    {
     "name": "stdout",
     "output_type": "stream",
     "text": [
      "<a class=\"brand-name\" href=\"https://www.youtube.com/channel/UCHwhZ7HPBhUh2IscPSL0pHA\" target=\"_blank\"><i class=\"fa fa-youtube\"></i>스타트코딩</a>\n",
      "스타트코딩\n",
      "https://www.youtube.com/channel/UCHwhZ7HPBhUh2IscPSL0pHA\n"
     ]
    }
   ],
   "source": [
    "## Q . 스타트코딩 채널명과 주소를 추출하기\n",
    "\n",
    "## 추출하고자 하는 아이콘 위에 마우스 커서 올린 후 우클릭 -> '검사'\n",
    "print(soup.select_one('.brand-name')) \n",
    "print(soup.select_one('.brand-name').text)\n",
    "print(soup.select_one('.brand-name').attrs['href'])\n"
   ]
  },
  {
   "cell_type": "code",
   "execution_count": null,
   "metadata": {},
   "outputs": [],
   "source": []
  }
 ],
 "metadata": {
  "kernelspec": {
   "display_name": "Python 3",
   "language": "python",
   "name": "python3"
  },
  "language_info": {
   "codemirror_mode": {
    "name": "ipython",
    "version": 3
   },
   "file_extension": ".py",
   "mimetype": "text/x-python",
   "name": "python",
   "nbconvert_exporter": "python",
   "pygments_lexer": "ipython3",
   "version": "3.12.5"
  }
 },
 "nbformat": 4,
 "nbformat_minor": 2
}
