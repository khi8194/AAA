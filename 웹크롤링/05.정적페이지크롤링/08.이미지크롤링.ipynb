{
 "cells": [
  {
   "cell_type": "code",
   "execution_count": 14,
   "metadata": {},
   "outputs": [],
   "source": [
    "\n",
    "\n",
    "import requests     # import requests : HTTP 요청을 보내는 데 사용. 웹 API와 상호 작용하거나, 웹 콘텐츠를 검색하거나, 심지어 프로그래밍 방식으로 양식을 제출하는 데 사용\n",
    "from bs4 import BeautifulSoup\n",
    "import urllib.request\n",
    "\n",
    "\n",
    "response = requests.get(\"https://finance.naver.com/news/mainnews.naver\")\n",
    "html = response.text\n",
    "soup = BeautifulSoup(html, 'html.parser')  ## soup : 손질 된 생선이 담긴 그릇 / html : 손질안된 날 것의 생선 / 'html.parser' : 손질용 칼\n",
    "\n",
    "items = soup.select('.block1')\n",
    "i=1\n",
    "for item in items:\n",
    "    img_src = item.select_one('.thumb > a > img').attrs['src']    ## 이미지의 주소만 가져옴\n",
    "    # print(img_src)\n",
    "    urllib.request.urlretrieve(img_src, f'img/{i}.jpg')\n",
    "    i = i+ 1\n",
    "\n",
    "        "
   ]
  },
  {
   "cell_type": "code",
   "execution_count": null,
   "metadata": {},
   "outputs": [],
   "source": []
  }
 ],
 "metadata": {
  "kernelspec": {
   "display_name": "Python 3",
   "language": "python",
   "name": "python3"
  },
  "language_info": {
   "codemirror_mode": {
    "name": "ipython",
    "version": 3
   },
   "file_extension": ".py",
   "mimetype": "text/x-python",
   "name": "python",
   "nbconvert_exporter": "python",
   "pygments_lexer": "ipython3",
   "version": "3.12.5"
  }
 },
 "nbformat": 4,
 "nbformat_minor": 2
}
